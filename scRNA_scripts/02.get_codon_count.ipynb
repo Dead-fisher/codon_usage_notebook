{
 "cells": [
  {
   "cell_type": "code",
   "execution_count": null,
   "metadata": {},
   "outputs": [],
   "source": [
    "import pandas as pd\n",
    "from pathlib import Path\n",
    "import os\n",
    "import json"
   ]
  },
  {
   "cell_type": "code",
   "execution_count": null,
   "metadata": {},
   "outputs": [],
   "source": [
    "basepath = Path(\"/home/unix/wangyanz/codon_usage/scRNA\")\n",
    "data_pool = basepath.joinpath(\"data\")"
   ]
  },
  {
   "cell_type": "code",
   "execution_count": null,
   "metadata": {},
   "outputs": [],
   "source": [
    "## may take 25 mins\n",
    "\n",
    "import os\n",
    "import json\n",
    "from pathlib import Path\n",
    "import pandas as pd\n",
    "from tqdm import tqdm\n",
    "\n",
    "table = {\n",
    "        \"TTT\": \"F\", \"TTC\": \"F\", \"TTA\": \"L\", \"TTG\": \"L\",\n",
    "        \"TCT\": \"S\", \"TCC\": \"S\", \"TCA\": \"S\", \"TCG\": \"S\",\n",
    "        \"TAT\": \"Y\", \"TAC\": \"Y\",                           # noqa: E241\n",
    "        \"TGT\": \"C\", \"TGC\": \"C\",             \"TGG\": \"W\",   # noqa: E241\n",
    "        \"CTT\": \"L\", \"CTC\": \"L\", \"CTA\": \"L\", \"CTG\": \"L\",\n",
    "        \"CCT\": \"P\", \"CCC\": \"P\", \"CCA\": \"P\", \"CCG\": \"P\",\n",
    "        \"CAT\": \"H\", \"CAC\": \"H\", \"CAA\": \"Q\", \"CAG\": \"Q\",\n",
    "        \"CGT\": \"R\", \"CGC\": \"R\", \"CGA\": \"R\", \"CGG\": \"R\",\n",
    "        \"ATT\": \"I\", \"ATC\": \"I\", \"ATA\": \"I\", \"ATG\": \"M\",\n",
    "        \"ACT\": \"T\", \"ACC\": \"T\", \"ACA\": \"T\", \"ACG\": \"T\",\n",
    "        \"AAT\": \"N\", \"AAC\": \"N\", \"AAA\": \"K\", \"AAG\": \"K\",\n",
    "        \"AGT\": \"S\", \"AGC\": \"S\", \"AGA\": \"R\", \"AGG\": \"R\",\n",
    "        \"GTT\": \"V\", \"GTC\": \"V\", \"GTA\": \"V\", \"GTG\": \"V\",\n",
    "        \"GCT\": \"A\", \"GCC\": \"A\", \"GCA\": \"A\", \"GCG\": \"A\",\n",
    "        \"GAT\": \"D\", \"GAC\": \"D\", \"GAA\": \"E\", \"GAG\": \"E\",\n",
    "        \"GGT\": \"G\", \"GGC\": \"G\", \"GGA\": \"G\", \"GGG\": \"G\",\n",
    "    }\n",
    "stop_codons=[\"TAA\", \"TAG\", \"TGA\"]\n",
    "start_codons=[\"TTG\", \"CTG\", \"ATG\"]\n",
    "\n",
    "df = pd.read_csv(data_pool.joinpath(\"cell_type_norm_mean_scRNA_Muris_10X_v2.csv\"))\n",
    "df = df.set_index('cell_type')\n",
    "\n",
    "with open(data_pool.joinpath(\"gene_name_scRNA_Muris_10X_v2.csv\"), \"r\") as fp:\n",
    "    gene_name_scRNA = fp.read().split()\n",
    "\n",
    "gene_seq_pool = Path(\"/home/unix/wangyanz/13.yanze/data/gene_seq\")\n",
    "gene_count_pool = Path(\"/home/unix/wangyanz/13.yanze/data/gene_count\")\n",
    "gene_cell_type_pool = data_pool.joinpath(\"cell_type\")\n",
    "\n",
    "# available_gene_seq = gene_seq_pool.glob(\"*.dat\")\n",
    "cell_types = df.index.tolist()\n",
    "\n",
    "for cell_type in tqdm(cell_types, desc=\"cell type\", position=0):\n",
    "    print(cell_type)\n",
    "    empty_data = {}\n",
    "    for codon in table:\n",
    "        empty_data[codon] = 0\n",
    "    for stop_codon in stop_codons:\n",
    "        empty_data[stop_codon] = 0\n",
    "\n",
    "    query_cell_type = cell_type\n",
    "    query_gene_expr = df.loc[query_cell_type]\n",
    "    count = 0\n",
    "\n",
    "    available_gene_seq = gene_seq_pool.glob(\"*.dat\")\n",
    "\n",
    "    for agene in tqdm(available_gene_seq, desc=\"gene\", position=1):\n",
    "        agene_index = agene.stem\n",
    "        gene_name = agene_index.split(\"_\")[0]\n",
    "        if gene_name in gene_name_scRNA:\n",
    "            gene_count_file = gene_count_pool.joinpath(f\"{agene_index}.json\")\n",
    "            with open(gene_count_file, \"r\") as fp:\n",
    "                data = json.load(fp)\n",
    "            for key in data.keys():\n",
    "                empty_data[key] += query_gene_expr[gene_name] * data[key]\n",
    "\n",
    "    if not os.path.exists(gene_cell_type_pool):\n",
    "        os.mkdir(gene_cell_type_pool)\n",
    "\n",
    "    canonical_cell_name = \"_\".join(query_cell_type.split())\n",
    "    with open(gene_cell_type_pool.joinpath(f\"{canonical_cell_name}.json\"), \"w\") as fp:\n",
    "        json.dump(empty_data, fp)\n"
   ]
  },
  {
   "attachments": {},
   "cell_type": "markdown",
   "metadata": {},
   "source": [
    "plot"
   ]
  },
  {
   "cell_type": "code",
   "execution_count": null,
   "metadata": {},
   "outputs": [],
   "source": [
    "import matplotlib.pyplot as plt\n",
    "import json\n",
    "import numpy as np\n",
    "cell_type_pool = data_pool.joinpath(\"cell_type\")\n",
    "pics_dir = data_pool.joinpath(\"pics\")\n",
    "if not os.path.exists(pics_dir):\n",
    "    os.mkdir(pics_dir)\n",
    "\n",
    "cells = cell_type_pool.glob(\"*.json\")\n",
    "for cell in cells:\n",
    "    with open(cell, \"r\") as fp:\n",
    "        data = json.load(fp)\n",
    "    myarray = np.array(list(data.values()))\n",
    "    # print(myarray)\n",
    "    myarray = myarray / np.sum(myarray)\n",
    "    plt.figure()\n",
    "    plt.xlabel(\"codons\", )\n",
    "    plt.ylabel(\"usage frequency\")\n",
    "    plt.title(f\"{cell.stem} codon usage\")\n",
    "    plt.xticks(rotation=90, size=5)\n",
    "    plt.bar(data.keys(), myarray, alpha=0.5, label=cell)\n",
    "    plt.savefig(pics_dir.joinpath(f\"{cell.stem}.png\"))\n",
    "    plt.close()\n"
   ]
  },
  {
   "cell_type": "code",
   "execution_count": null,
   "metadata": {},
   "outputs": [],
   "source": []
  }
 ],
 "metadata": {
  "kernelspec": {
   "display_name": "Python 3 (ipykernel)",
   "language": "python",
   "name": "python3"
  },
  "language_info": {
   "codemirror_mode": {
    "name": "ipython",
    "version": 3
   },
   "file_extension": ".py",
   "mimetype": "text/x-python",
   "name": "python",
   "nbconvert_exporter": "python",
   "pygments_lexer": "ipython3",
   "version": "3.9.16"
  },
  "orig_nbformat": 4
 },
 "nbformat": 4,
 "nbformat_minor": 2
}
