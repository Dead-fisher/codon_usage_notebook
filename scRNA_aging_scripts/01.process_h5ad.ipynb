{
 "cells": [
  {
   "cell_type": "code",
   "execution_count": 1,
   "metadata": {},
   "outputs": [],
   "source": [
    "from pathlib import Path\n",
    "import scanpy as sc\n",
    "import scipy\n",
    "from scipy.sparse import csr_matrix as csr\n",
    "import os\n",
    "import pandas as pd\n",
    "import numpy as np"
   ]
  },
  {
   "cell_type": "code",
   "execution_count": 2,
   "metadata": {},
   "outputs": [],
   "source": [
    "def preprocess_fast(sdata1, mode = 'customized',target_sum=1e4,base = 2,zero_center = True,regressout = False):\n",
    "    if type(sdata1.layers['raw']) != scipy.sparse._csr.csr_matrix:\n",
    "        sdata1.layers['raw'] = csr(sdata1.layers['raw'].copy())\n",
    "    sdata1.X = sdata1.layers['raw'].copy()\n",
    "    if mode == 'default':\n",
    "        sc.pp.normalize_total(sdata1)  # normalize counts per cell\n",
    "        sdata1.layers['norm'] = csr(sdata1.X.copy())\n",
    "        sc.pp.log1p(sdata1)\n",
    "        sdata1.layers['log1p_norm'] = csr(sdata1.X.copy())\n",
    "        sc.pp.scale(sdata1,zero_center = zero_center)\n",
    "        if scipy.sparse.issparse(sdata1.X): #### automatically change to non csr matrix (zero_center == True, the .X would be sparce)\n",
    "            sdata1.X = sdata1.X.toarray().copy()\n",
    "        sdata1.layers['log1p_norm_scaled'] = sdata1.X.copy()\n",
    "        if regressout:\n",
    "            sdata1.obs['total_counts'] = sdata1.layers['raw'].toarray().sum(axis=1)\n",
    "            sc.pp.regress_out(sdata1, ['total_counts'])\n",
    "            sdata1.layers['log1p_norm_scaled'] = sdata1.X.copy()\n",
    "        return sdata1 #### sdata1.X is sdata1.layers['log1p_norm_scaled']\n",
    "    elif mode == 'customized':\n",
    "        if target_sum == 1e4:\n",
    "            target_sum_str = '1e4'\n",
    "        else:\n",
    "            target_sum_str = str(target_sum)\n",
    "        sc.pp.normalize_total(sdata1,target_sum=target_sum)\n",
    "        sdata1.layers[f'norm{target_sum_str}'] = csr(sdata1.X.copy())\n",
    "        sc.pp.log1p(sdata1,base = base)\n",
    "        sdata1.layers[f'log{str(base)}_norm{target_sum_str}'] = csr(sdata1.X.copy())\n",
    "        sc.pp.scale(sdata1,zero_center = zero_center)\n",
    "        if scipy.sparse.issparse(sdata1.X): #### automatically change to non csr matrix (zero_center == True, the .X would be sparce)\n",
    "            sdata1.X = sdata1.X.toarray().copy()\n",
    "        sdata1.layers[f'log{str(base)}_norm{target_sum_str}_scaled'] = sdata1.X.copy()\n",
    "        if regressout:\n",
    "            sdata1.obs['total_counts'] = sdata1.layers['raw'].toarray().sum(axis=1)\n",
    "            sc.pp.regress_out(sdata1, ['total_counts'])\n",
    "            sdata1.layers[f'log{str(base)}_norm{target_sum_str}_scaled'] = sdata1.X.copy()\n",
    "        return sdata1 #### sdata1.X is sdata1.layers[f'log{str(base)}_norm{target_sum_str}_scaled']\n",
    "    else:\n",
    "        print('Please set the `mode` as one of the {\"default\", \"customized\"}.')"
   ]
  },
  {
   "attachments": {},
   "cell_type": "markdown",
   "metadata": {},
   "source": [
    "# Processing\n",
    "\n",
    "Here we read from a h5ad data and do the data norm.\n",
    "A new adata is returned. "
   ]
  },
  {
   "cell_type": "code",
   "execution_count": 3,
   "metadata": {},
   "outputs": [],
   "source": [
    "basepath = Path(\"/home/unix/wangyanz/codon_usage/scRNA_aging\")\n",
    "data_pool = basepath.joinpath(\"data\")"
   ]
  },
  {
   "cell_type": "code",
   "execution_count": 18,
   "metadata": {},
   "outputs": [],
   "source": [
    "sdata = sc.read_h5ad('/stanley/WangLab/Data/Raw/01.SAM/01.Tabula_Muris_v1_v2/01.h5ad/Tabula_Muris_10X_v2.h5ad')\n",
    "\n",
    "# sdata.layers['raw'] = sdata.X.copy()\n",
    "# sdata = preprocess_fast(sdata,mode = 'default')\n",
    "# ### sdata.layers\n",
    "# ### ctype info\n",
    "# sdata.write_h5ad(data_pool.joinpath(\"processed_Tabula_Muris_10X_v2.h5ad\"))"
   ]
  },
  {
   "cell_type": "code",
   "execution_count": 19,
   "metadata": {},
   "outputs": [
    {
     "data": {
      "text/plain": [
       "3-F-56     17806\n",
       "3-F-57      9821\n",
       "3-M-5/6     7410\n",
       "3-M-8       7299\n",
       "3-M-7/8     7167\n",
       "3-M-9       5178\n",
       "3-M-8/9      975\n",
       "Name: mouse.id, dtype: int64"
      ]
     },
     "execution_count": 19,
     "metadata": {},
     "output_type": "execute_result"
    }
   ],
   "source": [
    "sdata.obs['mouse.id'].value_counts()"
   ]
  },
  {
   "attachments": {},
   "cell_type": "markdown",
   "metadata": {},
   "source": [
    "### Then we group data by cell type"
   ]
  },
  {
   "cell_type": "code",
   "execution_count": 5,
   "metadata": {},
   "outputs": [],
   "source": [
    "# store the gene name\n",
    "gene_name = (sdata.var[\"gene_name\"])\n",
    "gene_name_file = data_pool.joinpath(\"gene_name_scRNA_Muris_10X_v2.csv\")\n",
    "if not os.path.exists(gene_name_file):\n",
    "    gene_name.to_csv(gene_name_file)"
   ]
  },
  {
   "cell_type": "code",
   "execution_count": 6,
   "metadata": {},
   "outputs": [
    {
     "data": {
      "text/plain": [
       "AnnData object with n_obs × n_vars = 55656 × 23433\n",
       "    obs: 'sample', 'batch', 'cell_type', 'cell_ontology_id', 'mouse.id', 'mouse.sex', 'subtissue', 'tissue', 'tissue_tSNE_1', 'tissue_tSNE_2'\n",
       "    var: 'gene_name', 'mean', 'std'\n",
       "    uns: 'log1p'\n",
       "    layers: 'raw', 'norm', 'log1p_norm', 'log1p_norm_scaled'"
      ]
     },
     "execution_count": 6,
     "metadata": {},
     "output_type": "execute_result"
    }
   ],
   "source": [
    "sdata"
   ]
  },
  {
   "cell_type": "code",
   "execution_count": 23,
   "metadata": {},
   "outputs": [],
   "source": [
    "# group the data by cell type\n",
    "\n",
    "# sdata.obs.groupby('cell_type', group_keys=True) retuen a index\n",
    "# x.index will give you the cell index\n",
    "# sdata[x.index] will group the sdata by that index, each item is a small AnnData.\n",
    "# by .layers[\"norm\"], you can acess the real data.\n",
    "grouped_adata = sdata.obs.groupby('cell_type').apply(lambda x: sdata[x.index].layers[\"norm\"].mean(axis=0))\n",
    "value_list = []\n",
    "for i in  grouped_adata.values:\n",
    "    value_list.append(i.flatten())\n",
    "value_list = np.array(value_list).reshape((len(grouped_adata.index), sdata.n_vars))\n",
    "    \n",
    "df = pd.DataFrame(value_list, index=grouped_adata.index, columns=gene_name.index)\n",
    "df.to_csv(data_pool.joinpath(\"cell_type_norm_mean_scRNA_Muris_10X_v2.csv\"))"
   ]
  },
  {
   "attachments": {},
   "cell_type": "markdown",
   "metadata": {},
   "source": [
    "### Store the cell type"
   ]
  },
  {
   "cell_type": "code",
   "execution_count": 24,
   "metadata": {},
   "outputs": [],
   "source": [
    "cell_type = grouped_adata.index.tolist()\n",
    "with open(data_pool.joinpath(\"cell_types_scRNA_Muris_10X_v2.dat\"), \"w\") as scr:\n",
    "    scr.write(\"\\n\".join(cell_type))"
   ]
  },
  {
   "cell_type": "code",
   "execution_count": null,
   "metadata": {},
   "outputs": [],
   "source": []
  }
 ],
 "metadata": {
  "kernelspec": {
   "display_name": "Python 3 (ipykernel)",
   "language": "python",
   "name": "python3"
  },
  "language_info": {
   "codemirror_mode": {
    "name": "ipython",
    "version": 3
   },
   "file_extension": ".py",
   "mimetype": "text/x-python",
   "name": "python",
   "nbconvert_exporter": "python",
   "pygments_lexer": "ipython3",
   "version": "3.9.16"
  },
  "orig_nbformat": 4
 },
 "nbformat": 4,
 "nbformat_minor": 2
}
