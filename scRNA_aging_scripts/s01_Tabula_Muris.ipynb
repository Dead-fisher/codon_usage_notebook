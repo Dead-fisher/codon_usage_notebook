{
 "cells": [
  {
   "cell_type": "code",
   "execution_count": 2,
   "metadata": {},
   "outputs": [],
   "source": [
    "import scanpy as sc\n",
    "import anndata\n",
    "import seaborn as sns\n",
    "import os\n",
    "from tqdm import tqdm\n",
    "import numpy as np\n",
    "import pandas as pd\n",
    "import matplotlib.pyplot as plt\n",
    "from scipy.sparse import csr_matrix as csr\n",
    "import scipy.io\n",
    "from pathlib import Path\n",
    "prefix_dir = Path('/stanley/WangLab/')\n",
    "# prefix_dir = '/stanley/WangLab'\n",
    "# sys.path.append(f'{prefix_dir}/atlas/code/8.utils')\n",
    "# from plots_utils import *\n",
    "\n",
    "# sys.path.append(f'{prefix_dir}/tangzefang/03.Projects/05.CCF/share_zf')\n",
    "# from mapping_utils import *\n",
    "\n",
    "input_path = prefix_dir.joinpath('Data/Raw/01.SAM/01.Tabula_Muris_v1_v2')\n",
    "v3_dir = prefix_dir.joinpath('Data/Raw/01.SAM/04.Tabula_Muris_v3') "
   ]
  },
  {
   "cell_type": "code",
   "execution_count": 3,
   "metadata": {},
   "outputs": [
    {
     "name": "stderr",
     "output_type": "stream",
     "text": [
      "/stanley/WangLab/envs/wyz_condon/lib/python3.9/site-packages/anndata/compat/__init__.py:229: FutureWarning: Moving element from .uns['neighbors']['distances'] to .obsp['distances'].\n",
      "\n",
      "This is where adjacency matrices should go now.\n",
      "  warn(\n",
      "/stanley/WangLab/envs/wyz_condon/lib/python3.9/site-packages/anndata/compat/__init__.py:229: FutureWarning: Moving element from .uns['neighbors']['connectivities'] to .obsp['connectivities'].\n",
      "\n",
      "This is where adjacency matrices should go now.\n",
      "  warn(\n"
     ]
    },
    {
     "data": {
      "text/plain": [
       "index\n",
       "AAACCTGCAGGGTACA-1-0-0-0        24m\n",
       "AAACCTGCAGTAAGCG-1-0-0-0        24m\n",
       "AAACCTGTCATTATCC-1-0-0-0        24m\n",
       "AAACGGGGTACAGTGG-1-0-0-0        24m\n",
       "AAACGGGGTCTTCTCG-1-0-0-0        24m\n",
       "                               ... \n",
       "10X_P8_15_TTTGTCAGTACATGTC-1     3m\n",
       "10X_P8_15_TTTGTCAGTGCGCTTG-1     3m\n",
       "10X_P8_15_TTTGTCAGTTGTCGCG-1     3m\n",
       "10X_P8_15_TTTGTCATCGGCTTGG-1     3m\n",
       "10X_P8_15_TTTGTCATCTTGTTTG-1     3m\n",
       "Name: age, Length: 245389, dtype: category\n",
       "Categories (6, object): ['1m', '3m', '18m', '21m', '24m', '30m']"
      ]
     },
     "execution_count": 3,
     "metadata": {},
     "output_type": "execute_result"
    }
   ],
   "source": [
    "v3_path = v3_dir.joinpath('23936684')\n",
    "anndata = sc.read_h5ad(v3_path)\n",
    "anndata.obs['age']"
   ]
  },
  {
   "attachments": {},
   "cell_type": "markdown",
   "metadata": {},
   "source": [
    "#### Smart-Seq2"
   ]
  },
  {
   "cell_type": "code",
   "execution_count": 3,
   "metadata": {},
   "outputs": [],
   "source": [
    "# ### Single-cell_RNA-seq_data_from_Smart-seq2_sequencing_of_FACS_sorted_cells [Could be skipped since the version 2 is better]\n",
    "\n",
    "# input_path_t = f'{input_path}/Single-cell_RNA-seq_data_from_Smart-seq2_sequencing_of_FACS_sorted_cells'\n",
    "# datasets = [file_t for file_t in os.listdir(f'{input_path_t}/FACS/') if file_t.endswith('.csv')]\n",
    "# adatas = []\n",
    "# for dataset_t in tqdm(datasets):\n",
    "#     adata_t = anndata.AnnData(pd.read_csv(f'{input_path_t}/FACS/{dataset_t}',index_col=0).T)\n",
    "#     adata_t.obs['sample'] = dataset_t.split('-')[0]\n",
    "#     adatas.append(adata_t)\n"
   ]
  },
  {
   "cell_type": "code",
   "execution_count": 4,
   "metadata": {},
   "outputs": [],
   "source": [
    "# adata = adatas[0].concatenate(adatas[1:],index_unique=None)\n",
    "# metadata = pd.read_csv(f'{input_path_t}/metadata_FACS.csv',index_col=0)\n",
    "# annotations = pd.read_csv(f'{input_path_t}/annotations_FACS.csv',index_col=0)\n",
    "# metadata['barcode_id'] = metadata.index.values.astype(str) +  metadata.loc[:,'mouse.id'].astype(str)\n",
    "# adata.obs['barcode_id'] = [\"\".join(i.split('.')[1:3]) for i in adata.obs.index.values]\n",
    "# adata.obs = adata.obs.join(annotations,how='left')\n",
    "# adata.obs = pd.merge(adata.obs, metadata, on='barcode_id', how='left',suffixes=(\"\",\"_meta\"))\n",
    "# adata.X = csr(adata.X.copy())\n",
    "# adata.layers['raw'] = adata.X.copy()\n",
    "\n",
    "# adata.write_h5ad(f'{input_path}/01.h5ad/Tabula_Muris_smart-seq2_v1.h5ad')\n",
    "# del adatas,adata_t,adata,metadata,annotations"
   ]
  },
  {
   "cell_type": "code",
   "execution_count": 17,
   "metadata": {},
   "outputs": [
    {
     "name": "stderr",
     "output_type": "stream",
     "text": [
      "100%|████████████████████████████████████████████████████████████████████████████████████████████████████████████████████████████████████████| 20/20 [02:16<00:00,  6.80s/it]\n"
     ]
    }
   ],
   "source": [
    "### Single-cell_RNA-seq_data_from_Smart-seq2_sequencing_of_FACS_sorted_cells_v2\n",
    "\n",
    "input_path_t = input_path.joinpath('Single-cell_RNA-seq_data_from_Smart-seq2_sequencing_of_FACS_sorted_cells_v2')\n",
    "# datasets = [file_t for file_t in os.listdir(f'{input_path_t}/FACS/') if file_t.endswith('.csv')]\n",
    "datasets = [file_t for file_t in input_path_t.joinpath(\"FACS\").glob(\"*.csv\")]\n",
    "adatas = []\n",
    "for dataset_t in tqdm(datasets):\n",
    "    df = pd.read_csv(dataset_t, index_col=0).T\n",
    "    adata_t = anndata.AnnData(df)\n",
    "    adata_t.obs['sample'] = dataset_t.name.split('-')[0]\n",
    "    adatas.append(adata_t)\n"
   ]
  },
  {
   "cell_type": "code",
   "execution_count": 19,
   "metadata": {},
   "outputs": [
    {
     "name": "stderr",
     "output_type": "stream",
     "text": [
      "/stanley/WangLab/envs/wyz_condon/lib/python3.9/site-packages/anndata/_core/anndata.py:1755: FutureWarning: The AnnData.concatenate method is deprecated in favour of the anndata.concat function. Please use anndata.concat instead.\n",
      "\n",
      "See the tutorial for concat at: https://anndata.readthedocs.io/en/latest/concatenation.html\n",
      "  warnings.warn(\n"
     ]
    },
    {
     "data": {
      "text/plain": [
       "AnnData object with n_obs × n_vars = 53760 × 23433\n",
       "    obs: 'sample', 'batch'"
      ]
     },
     "execution_count": 19,
     "metadata": {},
     "output_type": "execute_result"
    }
   ],
   "source": [
    "adatas[0]\n",
    "\n",
    "adata = adatas[0].concatenate(adatas[1:],index_unique=None)\n",
    "adata\n",
    "# # metadata = pd.read_csv(f'{input_path_t}/metadata_FACS.csv',index_col=0)\n",
    "\n",
    "# annotations = pd.read_csv(f'{input_path_t}/annotations_FACS.csv',index_col=2)\n",
    "# # metadata['barcode_id'] = metadata.index.values.astype(str) +  metadata.loc[:,'mouse.id'].astype(str)\n",
    "# adata.obs['barcode_id'] = [\"\".join(i.split('.')[1:3]) for i in adata.obs.index.values]\n",
    "# adata.obs = adata.obs.join(annotations.loc[:,['cell_ontology_class','cell_ontology_id','mouse.id','mouse.sex','subtissue', 'tissue', 'tissue_tSNE_1', 'tissue_tSNE_2']],how='left')\n",
    "# adata.obs.rename(columns={'cell_ontology_class':'cell_type'},inplace=True)\n",
    "# # adata.obs = pd.merge(adata.obs, metadata, on='barcode_id', how='left',suffixes=(\"\",\"_meta\"))\n",
    "# adata.X = csr(adata.X.copy())\n",
    "# adata.layers['raw'] = adata.X.copy()\n",
    "\n",
    "# adata.write_h5ad(f'{input_path}/01.h5ad/Tabula_Muris_smart-seq2_v2_raw.h5ad')\n",
    "# idx_valid = ~pd.isna(adata.obs['tissue_tSNE_1'])\n",
    "# adata[idx_valid,:].write_h5ad(f'{input_path}/01.h5ad/Tabula_Muris_smart-seq2_v2.h5ad')\n",
    "# del adatas,adata_t,adata,annotations"
   ]
  },
  {
   "attachments": {},
   "cell_type": "markdown",
   "metadata": {},
   "source": [
    "#### 10X"
   ]
  },
  {
   "cell_type": "code",
   "execution_count": null,
   "metadata": {},
   "outputs": [],
   "source": [
    "def read_10x(input_path_t2):\n",
    "    genes_df = pd.read_csv(f\"{input_path_t2}/genes.tsv\", sep='\\t', header=None, names=['gene_id', 'gene_name'])\n",
    "    genes_df.set_index('gene_id', inplace=True)\n",
    "    # Read the barcodes.tsv file into a pandas dataframe\n",
    "    barcodes_df = pd.read_csv(f\"{input_path_t2}/barcodes.tsv\", sep='\\t', header=None, index_col=0)\n",
    "    barcodes_df.index.name = 'barcode'\n",
    "    # Read the matrix.mtx file into a sparse matrix\n",
    "    matrix= scipy.io.mmread(f\"{input_path_t2}/matrix.mtx\").tocsr()\n",
    "    # Create an anndata object from the matrix, with genes as the observations and barcodes as the variables\n",
    "    return anndata.AnnData(matrix.T, obs=barcodes_df, var=genes_df)"
   ]
  },
  {
   "cell_type": "code",
   "execution_count": null,
   "metadata": {},
   "outputs": [],
   "source": [
    "# ### Single-cell_RNA-seq_data_from_microfluidic_emulsion [Could be skipped since the version 2 is better]\n",
    "# input_path_t = f'{input_path}/Single-cell_RNA-seq_data_from_microfluidic_emulsion'\n",
    "# datasets = [file_t for file_t in os.listdir(f'{input_path_t}/droplet/')]\n",
    "# adatas = []\n",
    "# for dataset_t in tqdm(datasets):\n",
    "#     print(f'Start with {dataset_t} ...')\n",
    "#     adata_t = read_10x(f\"{input_path_t}/droplet/{dataset_t}\")\n",
    "#     adata_t.obs['sample'] = dataset_t\n",
    "#     adatas.append(adata_t)\n"
   ]
  },
  {
   "cell_type": "code",
   "execution_count": null,
   "metadata": {},
   "outputs": [],
   "source": [
    "# adata = adatas[0].concatenate(adatas[1:],index_unique=None)\n",
    "# metadata = pd.read_csv(f'{input_path_t}/metadata_droplet.csv',index_col=0)\n",
    "# annotations = pd.read_csv(f'{input_path_t}/annotations_droplets.csv',index_col=0)\n",
    "# adata.obs['cell'] = adata.obs['sample'].str.split('-', expand=True).loc[:,1] + '_' + np.vstack(np.array(adata.obs.index.str.split('-', expand=True)))[:,0]\n",
    "# adata.obs.set_index('cell',inplace=True)\n",
    "# metadata['sample'] = metadata.loc[:,'tissue'].astype(str) + '-' + metadata.index.values.astype(str)\n",
    "# adata.obs = adata.obs.join(annotations,how='left')\n",
    "# adata.obs = pd.merge(adata.obs, metadata, on='sample', how='left',suffixes=(\"\",\"_meta\"))\n",
    "\n",
    "# adata.layers['raw'] = adata.X.copy()\n",
    "# adata.write_h5ad(f'{input_path}/01.h5ad/Tabula_Muris_10X_v1.h5ad')\n",
    "# del adatas,adata_t,adata,metadata,annotations"
   ]
  },
  {
   "cell_type": "code",
   "execution_count": null,
   "metadata": {},
   "outputs": [],
   "source": [
    "### Single-cell_RNA-seq_data_from_microfluidic_emulsion_v2\n",
    "input_path_t = f'{input_path}/Single-cell_RNA-seq_data_from_microfluidic_emulsion_v2'\n",
    "datasets = [file_t for file_t in os.listdir(f'{input_path_t}/droplet/')]\n",
    "adatas = []\n",
    "for dataset_t in tqdm(datasets):\n",
    "    print(f'Start with {dataset_t} ...')\n",
    "    adata_t = read_10x(f\"{input_path_t}/droplet/{dataset_t}\")\n",
    "    adata_t.obs['sample'] = dataset_t\n",
    "    adatas.append(adata_t)\n"
   ]
  },
  {
   "cell_type": "code",
   "execution_count": null,
   "metadata": {},
   "outputs": [],
   "source": [
    "adata = adatas[0].concatenate(adatas[1:],index_unique=None)\n",
    "# metadata = pd.read_csv(f'{input_path_t}/metadata_droplet.csv',index_col=0)\n",
    "annotations = pd.read_csv(f'{input_path_t}/annotations_droplet.csv',index_col=0)\n",
    "adata.obs['cell'] = adata.obs['sample'].str.split('-', expand=True).loc[:,1] + '_' + np.vstack(np.array(adata.obs.index.str.split('-', expand=True)))[:,0]\n",
    "adata.obs.set_index('cell',inplace=True)\n",
    "# metadata['sample'] = metadata.loc[:,'tissue'].astype(str) + '-' + metadata.index.values.astype(str)\n",
    "adata.obs = adata.obs.join(annotations.loc[:,['cell_ontology_class','cell_ontology_id','mouse.id','mouse.sex','subtissue', 'tissue', 'tissue_tSNE_1', 'tissue_tSNE_2']],how='left')\n",
    "adata.obs.rename(columns={'cell_ontology_class':'cell_type'},inplace=True)\n",
    "\n",
    "adata.layers['raw'] = adata.X.copy()\n",
    "adata.write_h5ad(f'{input_path}/01.h5ad/Tabula_Muris_10X_v2_raw.h5ad')\n",
    "idx_valid = ~pd.isna(adata.obs['tissue_tSNE_1'])\n",
    "adata[idx_valid,:].write_h5ad(f'{input_path}/01.h5ad/Tabula_Muris_10X_v2.h5ad')\n",
    "# del adatas,adata_t,adata,metadata,annotations"
   ]
  },
  {
   "attachments": {},
   "cell_type": "markdown",
   "metadata": {},
   "source": [
    "#### Check the data with tsne"
   ]
  },
  {
   "cell_type": "code",
   "execution_count": null,
   "metadata": {},
   "outputs": [],
   "source": [
    "for sample_t in ['Tabula_Muris_smart-seq2_v2']: #'Tabula_Muris_10X_v2',\n",
    "    sdata = sc.read_h5ad(f'{input_path}/01.h5ad/{sample_t}.h5ad')\n",
    "    coords_tsne = np.array(sdata.obs[['tissue_tSNE_1', 'tissue_tSNE_2']])\n",
    "    for col_t in ['sample','cell_ontology_class']:\n",
    "        tmp1 = np.array(sdata.obs[col_t])\n",
    "        tmp1[pd.isna(sdata.obs[col_t])] = 'Unknown'\n",
    "        group_separated_plot(tmp1,coords_tsne,output_path_t = f'{input_path}/01.h5ad/{sample_t}_{col_t}.pdf')"
   ]
  }
 ],
 "metadata": {
  "kernelspec": {
   "display_name": "Python 3 (ipykernel)",
   "language": "python",
   "name": "python3"
  },
  "language_info": {
   "codemirror_mode": {
    "name": "ipython",
    "version": 3
   },
   "file_extension": ".py",
   "mimetype": "text/x-python",
   "name": "python",
   "nbconvert_exporter": "python",
   "pygments_lexer": "ipython3",
   "version": "3.9.16"
  },
  "orig_nbformat": 4
 },
 "nbformat": 4,
 "nbformat_minor": 2
}
