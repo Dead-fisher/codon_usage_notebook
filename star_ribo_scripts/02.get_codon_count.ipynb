{
 "cells": [
  {
   "cell_type": "code",
   "execution_count": 3,
   "metadata": {},
   "outputs": [],
   "source": [
    "import pandas as pd\n",
    "from pathlib import Path\n",
    "import os\n",
    "import json\n",
    "from tqdm import tqdm"
   ]
  },
  {
   "cell_type": "code",
   "execution_count": 6,
   "metadata": {},
   "outputs": [],
   "source": [
    "base_path = Path(\"/home/unix/wangyanz/codon_usage/star_ribo\")\n",
    "data_pool = base_path.joinpath(\"data\")\n",
    "tag = \"RIBO_STAR_rep23\"\n",
    "star_ribo_data = data_pool.joinpath(f\"{tag}.h5ad\")"
   ]
  },
  {
   "cell_type": "code",
   "execution_count": 7,
   "metadata": {},
   "outputs": [
    {
     "name": "stderr",
     "output_type": "stream",
     "text": [
      "cell type:   0%|                                                                 | 0/12 [00:00<?, ?it/s]"
     ]
    },
    {
     "name": "stdout",
     "output_type": "stream",
     "text": [
      "AC\n"
     ]
    },
    {
     "name": "stderr",
     "output_type": "stream",
     "text": [
      "gene: 18195it [01:23, 218.02it/s]\n",
      "cell type:   8%|████▊                                                    | 1/12 [01:23<15:18, 83.48s/it]"
     ]
    },
    {
     "name": "stdout",
     "output_type": "stream",
     "text": [
      "CHOR_EPEN\n"
     ]
    },
    {
     "name": "stderr",
     "output_type": "stream",
     "text": [
      "gene: 18195it [00:09, 1993.14it/s]\n",
      "cell type:  17%|█████████▌                                               | 2/12 [01:32<06:37, 39.75s/it]"
     ]
    },
    {
     "name": "stdout",
     "output_type": "stream",
     "text": [
      "CHO_PEP\n"
     ]
    },
    {
     "name": "stderr",
     "output_type": "stream",
     "text": [
      "gene: 18195it [00:04, 3710.55it/s]\n",
      "cell type:  25%|██████████████▎                                          | 3/12 [01:37<03:34, 23.85s/it]"
     ]
    },
    {
     "name": "stdout",
     "output_type": "stream",
     "text": [
      "DE_MEN\n"
     ]
    },
    {
     "name": "stderr",
     "output_type": "stream",
     "text": [
      "gene: 18195it [00:08, 2054.64it/s]\n",
      "cell type:  33%|███████████████████                                      | 4/12 [01:46<02:23, 17.94s/it]"
     ]
    },
    {
     "name": "stdout",
     "output_type": "stream",
     "text": [
      "INH\n"
     ]
    },
    {
     "name": "stderr",
     "output_type": "stream",
     "text": [
      "gene: 18195it [00:04, 3715.66it/s]\n",
      "cell type:  42%|███████████████████████▊                                 | 5/12 [01:51<01:32, 13.24s/it]"
     ]
    },
    {
     "name": "stdout",
     "output_type": "stream",
     "text": [
      "MLG\n"
     ]
    },
    {
     "name": "stderr",
     "output_type": "stream",
     "text": [
      "gene: 18195it [00:08, 2104.09it/s]\n",
      "cell type:  50%|████████████████████████████▌                            | 6/12 [02:00<01:10, 11.69s/it]"
     ]
    },
    {
     "name": "stdout",
     "output_type": "stream",
     "text": [
      "OLG\n"
     ]
    },
    {
     "name": "stderr",
     "output_type": "stream",
     "text": [
      "gene: 18195it [00:04, 3705.70it/s]\n",
      "cell type:  58%|█████████████████████████████████▎                       | 7/12 [02:04<00:47,  9.48s/it]"
     ]
    },
    {
     "name": "stdout",
     "output_type": "stream",
     "text": [
      "OPC\n"
     ]
    },
    {
     "name": "stderr",
     "output_type": "stream",
     "text": [
      "gene: 18195it [00:08, 2080.79it/s]\n",
      "cell type:  67%|██████████████████████████████████████                   | 8/12 [02:13<00:37,  9.26s/it]"
     ]
    },
    {
     "name": "stdout",
     "output_type": "stream",
     "text": [
      "Other\n"
     ]
    },
    {
     "name": "stderr",
     "output_type": "stream",
     "text": [
      "gene: 18195it [00:04, 3672.05it/s]\n",
      "cell type:  75%|██████████████████████████████████████████▊              | 9/12 [02:18<00:23,  7.92s/it]"
     ]
    },
    {
     "name": "stdout",
     "output_type": "stream",
     "text": [
      "PVM\n"
     ]
    },
    {
     "name": "stderr",
     "output_type": "stream",
     "text": [
      "gene: 18195it [00:09, 2003.40it/s]\n",
      "cell type:  83%|██████████████████████████████████████████████▋         | 10/12 [02:27<00:16,  8.28s/it]"
     ]
    },
    {
     "name": "stdout",
     "output_type": "stream",
     "text": [
      "TEPN\n"
     ]
    },
    {
     "name": "stderr",
     "output_type": "stream",
     "text": [
      "gene: 18195it [00:04, 3668.74it/s]\n",
      "cell type:  92%|███████████████████████████████████████████████████▎    | 11/12 [02:32<00:07,  7.27s/it]"
     ]
    },
    {
     "name": "stdout",
     "output_type": "stream",
     "text": [
      "VAS\n"
     ]
    },
    {
     "name": "stderr",
     "output_type": "stream",
     "text": [
      "gene: 18195it [00:09, 2018.90it/s]\n",
      "cell type: 100%|████████████████████████████████████████████████████████| 12/12 [02:41<00:00, 13.48s/it]\n"
     ]
    }
   ],
   "source": [
    "\n",
    "table = {\n",
    "        \"TTT\": \"F\", \"TTC\": \"F\", \"TTA\": \"L\", \"TTG\": \"L\",\n",
    "        \"TCT\": \"S\", \"TCC\": \"S\", \"TCA\": \"S\", \"TCG\": \"S\",\n",
    "        \"TAT\": \"Y\", \"TAC\": \"Y\",                           # noqa: E241\n",
    "        \"TGT\": \"C\", \"TGC\": \"C\",             \"TGG\": \"W\",   # noqa: E241\n",
    "        \"CTT\": \"L\", \"CTC\": \"L\", \"CTA\": \"L\", \"CTG\": \"L\",\n",
    "        \"CCT\": \"P\", \"CCC\": \"P\", \"CCA\": \"P\", \"CCG\": \"P\",\n",
    "        \"CAT\": \"H\", \"CAC\": \"H\", \"CAA\": \"Q\", \"CAG\": \"Q\",\n",
    "        \"CGT\": \"R\", \"CGC\": \"R\", \"CGA\": \"R\", \"CGG\": \"R\",\n",
    "        \"ATT\": \"I\", \"ATC\": \"I\", \"ATA\": \"I\", \"ATG\": \"M\",\n",
    "        \"ACT\": \"T\", \"ACC\": \"T\", \"ACA\": \"T\", \"ACG\": \"T\",\n",
    "        \"AAT\": \"N\", \"AAC\": \"N\", \"AAA\": \"K\", \"AAG\": \"K\",\n",
    "        \"AGT\": \"S\", \"AGC\": \"S\", \"AGA\": \"R\", \"AGG\": \"R\",\n",
    "        \"GTT\": \"V\", \"GTC\": \"V\", \"GTA\": \"V\", \"GTG\": \"V\",\n",
    "        \"GCT\": \"A\", \"GCC\": \"A\", \"GCA\": \"A\", \"GCG\": \"A\",\n",
    "        \"GAT\": \"D\", \"GAC\": \"D\", \"GAA\": \"E\", \"GAG\": \"E\",\n",
    "        \"GGT\": \"G\", \"GGC\": \"G\", \"GGA\": \"G\", \"GGG\": \"G\",\n",
    "    }\n",
    "stop_codons=[\"TAA\", \"TAG\", \"TGA\"]\n",
    "start_codons=[\"TTG\", \"CTG\", \"ATG\"]\n",
    "\n",
    "df = pd.read_csv(data_pool.joinpath(f\"cell_type_norm_mean_{tag}.csv\"))\n",
    "df = df.set_index('cell_type')\n",
    "\n",
    "with open(data_pool.joinpath(f\"gene_name_{tag}.txt\"), \"r\") as fp:\n",
    "    gene_name_scRNA = fp.read().split()\n",
    "\n",
    "gene_seq_pool = Path(\"/home/unix/wangyanz/13.yanze/data/gene_seq\")\n",
    "gene_count_pool = Path(\"/home/unix/wangyanz/13.yanze/data/gene_count\")\n",
    "gene_cell_type_pool = data_pool.joinpath(\"cell_type\")\n",
    "if not os.path.exists(gene_cell_type_pool):\n",
    "    os.mkdir(gene_cell_type_pool)\n",
    "\n",
    "cell_types = df.index.tolist()\n",
    "\n",
    "for cell_type in tqdm(cell_types, desc=\"cell type\", position=0):\n",
    "    print(cell_type)\n",
    "    empty_data = {}\n",
    "    for codon in table:\n",
    "        empty_data[codon] = 0\n",
    "    for stop_codon in stop_codons:\n",
    "        empty_data[stop_codon] = 0\n",
    "\n",
    "    query_cell_type = cell_type\n",
    "    query_gene_expr = df.loc[query_cell_type]\n",
    "    count = 0\n",
    "\n",
    "    available_gene_seq = gene_seq_pool.glob(\"*.dat\")\n",
    "\n",
    "    for agene in tqdm(available_gene_seq, desc=\"gene\", position=1):\n",
    "        agene_index = agene.stem\n",
    "        gene_name = agene_index.split(\"_\")[0]\n",
    "        if gene_name in gene_name_scRNA:\n",
    "            gene_count_file = gene_count_pool.joinpath(f\"{agene_index}.json\")\n",
    "            with open(gene_count_file, \"r\") as fp:\n",
    "                data = json.load(fp)\n",
    "            for key in data.keys():\n",
    "                empty_data[key] += query_gene_expr[gene_name] * data[key]\n",
    "\n",
    "    canonical_cell_name = \"_\".join(query_cell_type.split())\n",
    "    with open(gene_cell_type_pool.joinpath(f\"{canonical_cell_name}.json\"), \"w\") as fp:\n",
    "        json.dump(empty_data, fp, indent=4)\n"
   ]
  },
  {
   "cell_type": "code",
   "execution_count": null,
   "metadata": {},
   "outputs": [],
   "source": []
  }
 ],
 "metadata": {
  "kernelspec": {
   "display_name": "Python 3 (ipykernel)",
   "language": "python",
   "name": "python3"
  },
  "language_info": {
   "codemirror_mode": {
    "name": "ipython",
    "version": 3
   },
   "file_extension": ".py",
   "mimetype": "text/x-python",
   "name": "python",
   "nbconvert_exporter": "python",
   "pygments_lexer": "ipython3",
   "version": "3.9.16"
  },
  "orig_nbformat": 4
 },
 "nbformat": 4,
 "nbformat_minor": 2
}
